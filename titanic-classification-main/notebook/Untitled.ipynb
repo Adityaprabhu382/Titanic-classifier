{
 "cells": [
  {
   "cell_type": "code",
   "execution_count": 2,
   "id": "26b08496",
   "metadata": {},
   "outputs": [
    {
     "name": "stdout",
     "output_type": "stream",
     "text": [
      "1\n"
     ]
    }
   ],
   "source": [
    "def find_triplet_sum_zero(arr):\n",
    "    n = len(arr)\n",
    "    arr.sort()\n",
    "    \n",
    "    for i in range(n - 2):\n",
    "        left = i + 1\n",
    "        right = n - 1\n",
    "        while left < right:\n",
    "            current_sum = arr[i] + arr[left] + arr[right]\n",
    "            if current_sum == 0:\n",
    "                return 1\n",
    "            elif current_sum < 0:\n",
    "                left += 1\n",
    "            else:\n",
    "                right -= 1\n",
    "                \n",
    "    return 0\n",
    "\n",
    "\n",
    "n = 5\n",
    "arr = [0, -1, 2, -3, 1]\n",
    "print(find_triplet_sum_zero(arr))  "
   ]
  },
  {
   "cell_type": "code",
   "execution_count": null,
   "id": "ffbea40d",
   "metadata": {},
   "outputs": [],
   "source": []
  }
 ],
 "metadata": {
  "kernelspec": {
   "display_name": "Python 3 (ipykernel)",
   "language": "python",
   "name": "python3"
  },
  "language_info": {
   "codemirror_mode": {
    "name": "ipython",
    "version": 3
   },
   "file_extension": ".py",
   "mimetype": "text/x-python",
   "name": "python",
   "nbconvert_exporter": "python",
   "pygments_lexer": "ipython3",
   "version": "3.11.5"
  }
 },
 "nbformat": 4,
 "nbformat_minor": 5
}
